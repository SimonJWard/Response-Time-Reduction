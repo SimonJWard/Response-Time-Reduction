{
 "cells": [
  {
   "cell_type": "markdown",
   "id": "79d68f83",
   "metadata": {},
   "source": [
    "<a id='SimulatedDataEnsembleModelsTop'></a>\n",
    "# Train Ensemble of LSTM Network Models on Simulated Training Set\n",
    "\n",
    "Investigating utility of training an ensemble of LSTM models on large simulated dataset, to later be evaluated on the experimental dataset\n",
    "\n",
    "- Architecture, informed by limited [hyperparameter tuning](SimulatedDataPretrainedModelTuner.ipynb#SimulatedDataPretrainedModelTunerTop) with keras tuner, is:\n",
    "    - input layer - 50\n",
    "    - hidden layer - 200\n",
    "    - hidden layer - 50\n",
    "    - hidden layer - 10\n",
    "    - output layer - 2 (softplus activation, to ensure variance predictions are positive)\n",
    "- batch size = 64\n",
    "- Number of base learners in ensemble = 10\n",
    "- 3:1:1 train:validation:test dataset split\n",
    "- 2000 epochs\n",
    "\n",
    "The model from the epoch which gives the best validation loss is saved for future use, for making predictions on the previously unseen experimental test set\n",
    "\n",
    "Minimum loss is -ln(minimum_variance)/2 = -6.91 (for a minimum variance chosen to be 1e-6)"
   ]
  },
  {
   "cell_type": "code",
   "execution_count": 2,
   "id": "7691bd15",
   "metadata": {},
   "outputs": [
    {
     "name": "stdout",
     "output_type": "stream",
     "text": [
      "model number 1\n",
      "WARNING:tensorflow:Layer lstm_14 will not use cuDNN kernels since it doesn't meet the criteria. It will use a generic GPU kernel as fallback when running on GPU.\n"
     ]
    },
    {
     "name": "stderr",
     "output_type": "stream",
     "text": [
      "/home/simonjward/Desktop/ResponseTimeReduction/Python/LSTMutils.py:28: DtypeWarning: Columns (0) have mixed types. Specify dtype option on import or set low_memory=False.\n",
      "  df_full = pd.read_csv(self.ExperimentalDataFilePath,sep=',',header=None,index_col=ConcentrationAsIndex)\n",
      "WARNING:tensorflow:Layer lstm_14 will not use cuDNN kernels since it doesn't meet the criteria. It will use a generic GPU kernel as fallback when running on GPU.\n"
     ]
    },
    {
     "name": "stdout",
     "output_type": "stream",
     "text": [
      "Epoch 1/2\n",
      "127/127 [==============================] - ETA: 0s - loss: -1.2881"
     ]
    },
    {
     "name": "stderr",
     "output_type": "stream",
     "text": [
      "WARNING:absl:Found untraced functions such as lstm_cell_20_layer_call_fn, lstm_cell_20_layer_call_and_return_conditional_losses, lstm_cell_21_layer_call_fn, lstm_cell_21_layer_call_and_return_conditional_losses, lstm_cell_22_layer_call_fn while saving (showing 5 of 8). These functions will not be directly callable after loading.\n"
     ]
    },
    {
     "name": "stdout",
     "output_type": "stream",
     "text": [
      "INFO:tensorflow:Assets written to: ../ModelsTest/SimulatedDataEnsembleModels/SimulatedDataEnsembleModel1/assets\n"
     ]
    },
    {
     "name": "stderr",
     "output_type": "stream",
     "text": [
      "INFO:tensorflow:Assets written to: ../ModelsTest/SimulatedDataEnsembleModels/SimulatedDataEnsembleModel1/assets\n"
     ]
    },
    {
     "name": "stdout",
     "output_type": "stream",
     "text": [
      "127/127 [==============================] - 32s 234ms/step - loss: -1.2881 - val_loss: -1.9855\n",
      "Epoch 2/2\n",
      "127/127 [==============================] - ETA: 0s - loss: -2.3030"
     ]
    },
    {
     "name": "stderr",
     "output_type": "stream",
     "text": [
      "WARNING:absl:Found untraced functions such as lstm_cell_20_layer_call_fn, lstm_cell_20_layer_call_and_return_conditional_losses, lstm_cell_21_layer_call_fn, lstm_cell_21_layer_call_and_return_conditional_losses, lstm_cell_22_layer_call_fn while saving (showing 5 of 8). These functions will not be directly callable after loading.\n"
     ]
    },
    {
     "name": "stdout",
     "output_type": "stream",
     "text": [
      "INFO:tensorflow:Assets written to: ../ModelsTest/SimulatedDataEnsembleModels/SimulatedDataEnsembleModel1/assets\n"
     ]
    },
    {
     "name": "stderr",
     "output_type": "stream",
     "text": [
      "INFO:tensorflow:Assets written to: ../ModelsTest/SimulatedDataEnsembleModels/SimulatedDataEnsembleModel1/assets\n"
     ]
    },
    {
     "name": "stdout",
     "output_type": "stream",
     "text": [
      "\b\b\b\b\b\b\b\b\b\b\b\b\b\b\b\b\b\b\b\b\b\b\b\b\b\b\b\b\b\b\b\b\b\b\b\b\b\b\b\b\b\b\b\b\b\b\b\b\b\b\b\b\b\b\b\b\b\b\b\b\b\b\b\b\b\b\r",
      "127/127 [==============================] - 29s 228ms/step - loss: -2.3030 - val_loss: -2.5742\n"
     ]
    },
    {
     "data": {
      "image/png": "[encoded data removed]",
      "text/plain": [
       "<Figure size 432x288 with 1 Axes>"
      ]
     },
     "metadata": {
      "needs_background": "light"
     },
     "output_type": "display_data"
    },
    {
     "name": "stdout",
     "output_type": "stream",
     "text": [
      "WARNING:tensorflow:Layer lstm_14 will not use cuDNN kernels since it doesn't meet the criteria. It will use a generic GPU kernel as fallback when running on GPU.\n"
     ]
    },
    {
     "name": "stderr",
     "output_type": "stream",
     "text": [
      "WARNING:tensorflow:Layer lstm_14 will not use cuDNN kernels since it doesn't meet the criteria. It will use a generic GPU kernel as fallback when running on GPU.\n"
     ]
    },
    {
     "name": "stdout",
     "output_type": "stream",
     "text": [
      "141/141 [==============================] - 7s 42ms/step - loss: -2.5736\n",
      "1 models complete\n",
      "model number 2\n",
      "WARNING:tensorflow:Layer lstm_19 will not use cuDNN kernels since it doesn't meet the criteria. It will use a generic GPU kernel as fallback when running on GPU.\n"
     ]
    },
    {
     "name": "stderr",
     "output_type": "stream",
     "text": [
      "WARNING:tensorflow:Layer lstm_19 will not use cuDNN kernels since it doesn't meet the criteria. It will use a generic GPU kernel as fallback when running on GPU.\n"
     ]
    },
    {
     "name": "stdout",
     "output_type": "stream",
     "text": [
      "Epoch 1/2\n",
      "127/127 [==============================] - ETA: 0s - loss: -0.6965"
     ]
    },
    {
     "name": "stderr",
     "output_type": "stream",
     "text": [
      "WARNING:absl:Found untraced functions such as lstm_cell_30_layer_call_fn, lstm_cell_30_layer_call_and_return_conditional_losses, lstm_cell_31_layer_call_fn, lstm_cell_31_layer_call_and_return_conditional_losses, lstm_cell_32_layer_call_fn while saving (showing 5 of 8). These functions will not be directly callable after loading.\n"
     ]
    },
    {
     "name": "stdout",
     "output_type": "stream",
     "text": [
      "INFO:tensorflow:Assets written to: ../ModelsTest/SimulatedDataEnsembleModels/SimulatedDataEnsembleModel2/assets\n"
     ]
    },
    {
     "name": "stderr",
     "output_type": "stream",
     "text": [
      "INFO:tensorflow:Assets written to: ../ModelsTest/SimulatedDataEnsembleModels/SimulatedDataEnsembleModel2/assets\n"
     ]
    },
    {
     "name": "stdout",
     "output_type": "stream",
     "text": [
      "127/127 [==============================] - 32s 231ms/step - loss: -0.6965 - val_loss: -0.9513\n",
      "Epoch 2/2\n",
      "127/127 [==============================] - ETA: 0s - loss: -0.9533"
     ]
    },
    {
     "name": "stderr",
     "output_type": "stream",
     "text": [
      "WARNING:absl:Found untraced functions such as lstm_cell_30_layer_call_fn, lstm_cell_30_layer_call_and_return_conditional_losses, lstm_cell_31_layer_call_fn, lstm_cell_31_layer_call_and_return_conditional_losses, lstm_cell_32_layer_call_fn while saving (showing 5 of 8). These functions will not be directly callable after loading.\n"
     ]
    },
    {
     "name": "stdout",
     "output_type": "stream",
     "text": [
      "INFO:tensorflow:Assets written to: ../ModelsTest/SimulatedDataEnsembleModels/SimulatedDataEnsembleModel2/assets\n"
     ]
    },
    {
     "name": "stderr",
     "output_type": "stream",
     "text": [
      "INFO:tensorflow:Assets written to: ../ModelsTest/SimulatedDataEnsembleModels/SimulatedDataEnsembleModel2/assets\n"
     ]
    },
    {
     "name": "stdout",
     "output_type": "stream",
     "text": [
      "\b\b\b\b\b\b\b\b\b\b\b\b\b\b\b\b\b\b\b\b\b\b\b\b\b\b\b\b\b\b\b\b\b\b\b\b\b\b\b\b\b\b\b\b\b\b\b\b\b\b\b\b\b\b\b\b\b\b\b\b\b\b\b\b\b\b\r",
      "127/127 [==============================] - 29s 228ms/step - loss: -0.9533 - val_loss: -0.9668\n"
     ]
    },
    {
     "data": {
      "image/png": "[encoded data removed]",
      "text/plain": [
       "<Figure size 432x288 with 1 Axes>"
      ]
     },
     "metadata": {
      "needs_background": "light"
     },
     "output_type": "display_data"
    },
    {
     "name": "stdout",
     "output_type": "stream",
     "text": [
      "WARNING:tensorflow:Layer lstm_19 will not use cuDNN kernels since it doesn't meet the criteria. It will use a generic GPU kernel as fallback when running on GPU.\n"
     ]
    },
    {
     "name": "stderr",
     "output_type": "stream",
     "text": [
      "WARNING:tensorflow:Layer lstm_19 will not use cuDNN kernels since it doesn't meet the criteria. It will use a generic GPU kernel as fallback when running on GPU.\n"
     ]
    },
    {
     "name": "stdout",
     "output_type": "stream",
     "text": [
      "141/141 [==============================] - 7s 42ms/step - loss: -0.9595\n",
      "2 models complete\n"
     ]
    }
   ],
   "source": [
    "import pandas as pd\n",
    "import tensorflow as tf\n",
    "from tensorflow import keras\n",
    "import numpy as np\n",
    "import matplotlib.pyplot as plt\n",
    "import math\n",
    "from LSTMutils import MeanVarianceLogLikelyhoodLoss\n",
    "from sklearn.model_selection import train_test_split\n",
    "import LSTMutils\n",
    "\n",
    "# input parameters\n",
    "NumEnsemble = 10\n",
    "SequenceLength = 250\n",
    "validation_split = 0.1\n",
    "batch_size = 64\n",
    "NumEpochs = 2000\n",
    "\n",
    "#set random seeds\n",
    "np.random.seed(42)\n",
    "tf.random.set_seed(42)\n",
    "\n",
    "# read simulated dataset\n",
    "SimulatedData = LSTMutils.SimulatedData(ExperimentalDataFilePath=\"../TrainingData/SimulatedTrainingSet10000.csv\",SequenceLength=SequenceLength)\n",
    "unused, concentrations, df_data, unused = SimulatedData.ReadData()\n",
    "concentrations=concentrations.apply(pd.to_numeric)\n",
    "\n",
    "# split data into stratified train and test sets, size defined by the test_split variable\n",
    "# the split will always be the same provided the data is in the same order, the same random_state is used,\n",
    "# and strangely the labels used for stratification are always the same type (str is used here)\n",
    "df_train, df_val = train_test_split(df_data, test_size=validation_split, train_size=1-validation_split, random_state=42, shuffle=True, stratify=concentrations)\n",
    "  \n",
    "# normalise time series data\n",
    "df_norm_train, df_norm_val, unused = SimulatedData.NormalizeData(df_train,df_val)\n",
    "\n",
    "# train NumEnsemble base learners, minimizing negative log likelyhood loss for mean and variance predictions\n",
    "# implementation follows this work: doi.org/10.48550/arXiv.1612.01474\n",
    "for i in range(NumEnsemble):\n",
    "    \n",
    "    # randomly shuffle data to achieve sufficient base learner diversity \n",
    "    df_norm_train = df_norm_train.sample(frac=1)\n",
    "    df_norm_val = df_norm_val.sample(frac=1)\n",
    "    \n",
    "    # Define y as the last element in X, and ensure X and y are the correct shape\n",
    "    X_train, y_train = SimulatedData.Shape(df_norm_train)\n",
    "    X_val, y_val = SimulatedData.Shape(df_norm_val)\n",
    "    \n",
    "    print(\"model number \" + str(i+1))\n",
    "    \n",
    "    # define network architecture\n",
    "    model = keras.models.Sequential([keras.layers.LSTM(50, input_shape=(SequenceLength,1), return_sequences=True, stateful=False)\n",
    "                                     , keras.layers.LSTM(200, return_sequences=True, stateful=False)\n",
    "                                     , keras.layers.LSTM(50, return_sequences=True, stateful=False)\n",
    "                                     , keras.layers.LSTM(10, return_sequences=True, stateful=False)\n",
    "                                     , keras.layers.LSTM(2, activation='softplus', return_sequences=True, stateful=False)])\n",
    "\n",
    "    # save the model at the epoch which gives the lowest loss predictions on the validataion dataset\n",
    "    checkpoint_filepath = r\"../Models/SimulatedDataEnsembleModels/SimulatedDataEnsembleModel\" + str(i+1)\n",
    "    model_checkpoint_callback = keras.callbacks.ModelCheckpoint(\n",
    "        filepath=checkpoint_filepath,\n",
    "        monitor='val_loss',\n",
    "        mode='min',\n",
    "        save_best_only=True)\n",
    "        \n",
    "    model.compile(optimizer=\"adam\",loss = MeanVarianceLogLikelyhoodLoss)\n",
    "\n",
    "    history = model.fit(X_train, y_train, batch_size=batch_size, validation_split=validation_split, epochs=NumEpochs, callbacks=[model_checkpoint_callback,keras.callbacks.TerminateOnNaN()])\n",
    "\n",
    "    # plot loss vs epochs\n",
    "    Evaluation = LSTMutils.ModelTrainingEvaluation()\n",
    "    Evaluation.PlotLossHistory(history)\n",
    "    \n",
    "    # load and evaluate the best model, in terms of validation loss\n",
    "    bestModel = keras.models.load_model(checkpoint_filepath, custom_objects={\"MeanVarianceLogLikelyhoodLoss\": MeanVarianceLogLikelyhoodLoss})\n",
    "    bestModel.evaluate(X_train, y_train, batch_size=batch_size)\n",
    "    print(str(i+1)+\" models complete\")"
   ]
  },
  {
   "cell_type": "code",
   "execution_count": null,
   "id": "4529d2e5",
   "metadata": {},
   "outputs": [],
   "source": []
  }
 ],
 "metadata": {
  "kernelspec": {
   "display_name": "Python 3 (ipykernel)",
   "language": "python",
   "name": "python3"
  },
  "language_info": {
   "codemirror_mode": {
    "name": "ipython",
    "version": 3
   },
   "file_extension": ".py",
   "mimetype": "text/x-python",
   "name": "python",
   "nbconvert_exporter": "python",
   "pygments_lexer": "ipython3",
   "version": "3.9.12"
  }
 },
 "nbformat": 4,
 "nbformat_minor": 5
}
